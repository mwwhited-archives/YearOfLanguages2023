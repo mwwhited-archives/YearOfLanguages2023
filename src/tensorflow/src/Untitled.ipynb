{
 "cells": [
  {
   "cell_type": "code",
   "execution_count": 2,
   "id": "b2859958-bdbc-4e78-b2b2-617a8872781d",
   "metadata": {},
   "outputs": [
    {
     "name": "stdout",
     "output_type": "stream",
     "text": [
      "Saved Hue channel as hue_channel.jpg\n",
      "Saved Saturation channel as saturation_channel.jpg\n",
      "Saved Value channel as value_channel.jpg\n"
     ]
    }
   ],
   "source": [
    "import cv2\n",
    "import numpy as np\n",
    "\n",
    "def rgb_to_hsv_channels(image_rgb):\n",
    "    # Convert RGB to HSV\n",
    "    image_hsv = cv2.cvtColor(image_rgb, cv2.COLOR_BGR2HSV)\n",
    "\n",
    "    # Split HSV channels\n",
    "    hue_channel, saturation_channel, value_channel = cv2.split(image_hsv)\n",
    "\n",
    "    return hue_channel, saturation_channel, value_channel\n",
    "\n",
    "def save_gray_channel_image(image, channel_name, output_path):\n",
    "    # Normalize the channel values to the range [0, 255]\n",
    "    normalized_channel = cv2.normalize(image, None, 0, 255, cv2.NORM_MINMAX)\n",
    "\n",
    "    # Convert to uint8\n",
    "    normalized_channel = normalized_channel.astype(np.uint8)\n",
    "\n",
    "    # Save the channel as a grayscale image\n",
    "    cv2.imwrite(output_path, normalized_channel)\n",
    "    print(f\"Saved {channel_name} channel as {output_path}\")\n",
    "\n",
    "def main():\n",
    "    # Load an RGB image\n",
    "    image_path = \"img001.jpg\"\n",
    "    image_rgb = cv2.imread(image_path, cv2.IMREAD_COLOR)\n",
    "\n",
    "    if image_rgb is None:\n",
    "        print(f\"Error: Unable to load the image at {image_path}\")\n",
    "        return\n",
    "\n",
    "    # Convert RGB to HSV channels\n",
    "    hue_channel, saturation_channel, value_channel = rgb_to_hsv_channels(image_rgb)\n",
    "\n",
    "    # Save each channel as a grayscale image\n",
    "    save_gray_channel_image(hue_channel, \"Hue\", \"hue_channel.jpg\")\n",
    "    save_gray_channel_image(saturation_channel, \"Saturation\", \"saturation_channel.jpg\")\n",
    "    save_gray_channel_image(value_channel, \"Value\", \"value_channel.jpg\")\n",
    "\n",
    "if __name__ == \"__main__\":\n",
    "    main()\n"
   ]
  },
  {
   "cell_type": "code",
   "execution_count": 6,
   "id": "b7fa8c5d-4819-43ad-a6c3-e6566d897aa6",
   "metadata": {},
   "outputs": [
    {
     "name": "stdout",
     "output_type": "stream",
     "text": [
      "Rotated hue by 180 degrees and saved to output_image_rotated.jpg\n"
     ]
    }
   ],
   "source": [
    "import cv2\n",
    "import numpy as np\n",
    "\n",
    "def rotate_hue(image_path, output_path):\n",
    "    # Read the image\n",
    "    image = cv2.imread(image_path)\n",
    "\n",
    "    if image is None:\n",
    "        print(f\"Error: Unable to load the image at {image_path}\")\n",
    "        return\n",
    "\n",
    "    # Convert BGR to HSV\n",
    "    hsv_image = cv2.cvtColor(image, cv2.COLOR_BGR2HSV)\n",
    "\n",
    "    # Rotate the hue channel by 180 degrees\n",
    "    hsv_image[:, :, 0] = (hsv_image[:, :, 0] + 60) % 360\n",
    "\n",
    "    # Convert HSV back to BGR\n",
    "    rotated_image = cv2.cvtColor(hsv_image, cv2.COLOR_HSV2BGR)\n",
    "\n",
    "    # Save the rotated image\n",
    "    cv2.imwrite(output_path, rotated_image)\n",
    "    print(f\"Rotated hue by 180 degrees and saved to {output_path}\")\n",
    "\n",
    "if __name__ == \"__main__\":\n",
    "    input_image_path = \"img001.jpg\"\n",
    "    output_image_path = \"output_image_rotated.jpg\"\n",
    "\n",
    "    rotate_hue(input_image_path, output_image_path)\n"
   ]
  },
  {
   "cell_type": "code",
   "execution_count": 11,
   "id": "23ce7f08-18ee-49c1-be38-3608425d96f0",
   "metadata": {},
   "outputs": [
    {
     "name": "stdout",
     "output_type": "stream",
     "text": [
      "Rotated saturation by 50% and saved to output_image_rotated_saturation.jpg\n"
     ]
    }
   ],
   "source": [
    "import cv2\n",
    "import numpy as np\n",
    "\n",
    "def rotate_saturation(image_path, output_path):\n",
    "    # Read the image\n",
    "    image = cv2.imread(image_path)\n",
    "\n",
    "    if image is None:\n",
    "        print(f\"Error: Unable to load the image at {image_path}\")\n",
    "        return\n",
    "\n",
    "    # Convert BGR to HSV\n",
    "    hsv_image = cv2.cvtColor(image, cv2.COLOR_BGR2HSV)\n",
    "\n",
    "    # Rotate the saturation channel by 50%\n",
    "    hsv_image[:, :, 1] = np.clip(hsv_image[:, :, 1] * 1.5, 0, 255).astype(np.uint8)\n",
    "\n",
    "    # Convert HSV back to BGR\n",
    "    rotated_image = cv2.cvtColor(hsv_image, cv2.COLOR_HSV2BGR)\n",
    "\n",
    "    # Save the rotated image\n",
    "    cv2.imwrite(output_path, rotated_image)\n",
    "    print(f\"Rotated saturation by 50% and saved to {output_path}\")\n",
    "\n",
    "if __name__ == \"__main__\":\n",
    "    input_image_path = \"img001.jpg\"\n",
    "    output_image_path = \"output_image_rotated_saturation.jpg\"\n",
    "\n",
    "    rotate_saturation(input_image_path, output_image_path)\n"
   ]
  },
  {
   "cell_type": "code",
   "execution_count": 12,
   "id": "616d732b-9ac8-4dc8-9d68-917309a97e18",
   "metadata": {},
   "outputs": [
    {
     "name": "stdout",
     "output_type": "stream",
     "text": [
      "Reduced value by a third and saved to output_image_reduced_value.jpg\n"
     ]
    }
   ],
   "source": [
    "import cv2\n",
    "import numpy as np\n",
    "\n",
    "def reduce_value(image_path, output_path):\n",
    "    # Read the image\n",
    "    image = cv2.imread(image_path)\n",
    "\n",
    "    if image is None:\n",
    "        print(f\"Error: Unable to load the image at {image_path}\")\n",
    "        return\n",
    "\n",
    "    # Convert BGR to HSV\n",
    "    hsv_image = cv2.cvtColor(image, cv2.COLOR_BGR2HSV)\n",
    "\n",
    "    # Reduce the value channel by a third\n",
    "    hsv_image[:, :, 2] = np.clip(hsv_image[:, :, 2] * (2/3), 0, 255).astype(np.uint8)\n",
    "\n",
    "    # Convert HSV back to BGR\n",
    "    reduced_value_image = cv2.cvtColor(hsv_image, cv2.COLOR_HSV2BGR)\n",
    "\n",
    "    # Save the reduced value image\n",
    "    cv2.imwrite(output_path, reduced_value_image)\n",
    "    print(f\"Reduced value by a third and saved to {output_path}\")\n",
    "\n",
    "if __name__ == \"__main__\":\n",
    "    input_image_path = \"img001.jpg\"\n",
    "    output_image_path = \"output_image_reduced_value.jpg\"\n",
    "\n",
    "    reduce_value(input_image_path, output_image_path)\n"
   ]
  },
  {
   "cell_type": "code",
   "execution_count": 14,
   "id": "59c1eeff-6c69-4458-9d53-cae6e0df748f",
   "metadata": {},
   "outputs": [
    {
     "name": "stdout",
     "output_type": "stream",
     "text": [
      "Saved 16-bit grayscale image to output_image_16bit.png\n"
     ]
    }
   ],
   "source": [
    "import cv2\n",
    "import numpy as np\n",
    "\n",
    "def split_rgb_to_16bit_grayscale(image_path, output_path_prefix):\n",
    "    # Read the image\n",
    "    image = cv2.imread(image_path)\n",
    "\n",
    "    if image is None:\n",
    "        print(f\"Error: Unable to load the image at {image_path}\")\n",
    "        return\n",
    "\n",
    "    # Split the image into RGB channels\n",
    "    b, g, r = cv2.split(image)\n",
    "\n",
    "    # Convert each channel to 16-bit grayscale\n",
    "    b_16bit = np.uint16(b) * 256  # Left shift by 8 bits\n",
    "    g_16bit = np.uint16(g) * 256\n",
    "    r_16bit = np.uint16(r) * 256\n",
    "\n",
    "    # Merge the 16-bit channels back to form the 48-bit image\n",
    "    image_16bit = cv2.merge([b_16bit, g_16bit, r_16bit])\n",
    "\n",
    "    # Save the 16-bit image\n",
    "    output_path = f\"{output_path_prefix}_16bit.png\"\n",
    "    cv2.imwrite(output_path, image_16bit)\n",
    "    print(f\"Saved 16-bit grayscale image to {output_path}\")\n",
    "\n",
    "if __name__ == \"__main__\":\n",
    "    input_image_path = \"img001.jpg\"\n",
    "    output_prefix = \"output_image\"\n",
    "\n",
    "    split_rgb_to_16bit_grayscale(input_image_path, output_prefix)\n"
   ]
  },
  {
   "cell_type": "code",
   "execution_count": null,
   "id": "b31e0df3-a793-4149-876b-96c413089e58",
   "metadata": {},
   "outputs": [],
   "source": []
  }
 ],
 "metadata": {
  "kernelspec": {
   "display_name": "Python 3 (ipykernel)",
   "language": "python",
   "name": "python3"
  },
  "language_info": {
   "codemirror_mode": {
    "name": "ipython",
    "version": 3
   },
   "file_extension": ".py",
   "mimetype": "text/x-python",
   "name": "python",
   "nbconvert_exporter": "python",
   "pygments_lexer": "ipython3",
   "version": "3.11.0rc1"
  }
 },
 "nbformat": 4,
 "nbformat_minor": 5
}
